{
 "cells": [
  {
   "cell_type": "code",
   "execution_count": 12,
   "id": "2124d62b",
   "metadata": {},
   "outputs": [
    {
     "name": "stdout",
     "output_type": "stream",
     "text": [
      "Enter the regular expression : (a|b)*ab\n",
      "Transition function:\n",
      "q[0,e]-->7 & 1\n",
      "q[1,e]-->2 & 4\n",
      "q[2,a]-->3\n",
      "q[3,e]-->6\n",
      "q[4,b]-->5\n",
      "q[5,e]-->6\n",
      "q[6,e]-->7 & 1\n",
      "q[7,a]-->8\n",
      "q[8,b]-->9\n"
     ]
    }
   ],
   "source": [
    "transition_table = [ [0]*3 for _ in range(20) ]\n",
    "\n",
    "re = input(\"Enter the regular expression : \")\n",
    "re += \" \"\n",
    "\n",
    "i = 0\n",
    "j = 1\n",
    "while(i<len(re)):\n",
    "    if re[i] == 'a':\n",
    "        try:\n",
    "            if re[i+1] != '|' and re[i+1] !='*':\n",
    "                transition_table[j][0] = j+1\n",
    "                j += 1\n",
    "            elif re[i+1] == '|' and re[i+2] =='b':\n",
    "                transition_table[j][2]=((j+1)*10)+(j+3)\n",
    "                j+=1\n",
    "                transition_table[j][0]=j+1\n",
    "                j+=1\n",
    "                transition_table[j][2]=j+3\n",
    "                j+=1\n",
    "                transition_table[j][1]=j+1\n",
    "                j+=1\n",
    "                transition_table[j][2]=j+1\n",
    "                j+=1\n",
    "                i=i+2\n",
    "            elif re[i+1]=='*':\n",
    "                transition_table[j][2]=((j+1)*10)+(j+3)\n",
    "                j+=1\n",
    "                transition_table[j][0]=j+1\n",
    "                j+=1\n",
    "                transition_table[j][2]=((j+1)*10)+(j-1)\n",
    "                j+=1\n",
    "        except:\n",
    "            transition_table[j][0] = j+1\n",
    "\n",
    "    elif re[i] == 'b':\n",
    "        try:\n",
    "            if re[i+1] != '|' and re[i+1] !='*':\n",
    "                transition_table[j][1] = j+1\n",
    "                j += 1\n",
    "            elif re[i+1]=='|' and re[i+2]=='a':\n",
    "                transition_table[j][2]=((j+1)*10)+(j+3)\n",
    "                j+=1\n",
    "                transition_table[j][1]=j+1\n",
    "                j+=1\n",
    "                transition_table[j][2]=j+3\n",
    "                j+=1\n",
    "                transition_table[j][0]=j+1\n",
    "                j+=1\n",
    "                transition_table[j][2]=j+1\n",
    "                j+=1\n",
    "                i=i+2\n",
    "            elif re[i+1]=='*':\n",
    "                transition_table[j][2]=((j+1)*10)+(j+3)\n",
    "                j+=1\n",
    "                transition_table[j][1]=j+1\n",
    "                j+=1\n",
    "                transition_table[j][2]=((j+1)*10)+(j-1)\n",
    "                j+=1\n",
    "        except:\n",
    "            transition_table[j][1] = j+1\n",
    "        \n",
    "    elif re[i]=='e' and re[i+1]!='|'and re[i+1]!='*':\n",
    "        transition_table[j][2]=j+1\n",
    "        j+=1\n",
    "\n",
    "    elif re[i]==')' and re[i+1]=='*':\n",
    "\n",
    "        transition_table[0][2]=((j+1)*10)+1\n",
    "        transition_table[j][2]=((j+1)*10)+1\n",
    "        j+=1\n",
    "\n",
    "    i +=1\n",
    "\n",
    "print (\"Transition function:\")\n",
    "for i in range(j):\n",
    "    if(transition_table[i][0]!=0):\n",
    "        print(\"q[{0},a]-->{1}\".format(i,transition_table[i][0]))\n",
    "    if(transition_table[i][1]!=0):\n",
    "        print(\"q[{0},b]-->{1}\".format(i,transition_table[i][1]))\n",
    "    if(transition_table[i][2]!=0):\n",
    "        if(transition_table[i][2]<10):\n",
    "            print(\"q[{0},e]-->{1}\".format(i,transition_table[i][2]))\n",
    "        else:\n",
    "            print(\"q[{0},e]-->{1} & {2}\".format(i,int(transition_table[i][2]/10),transition_table[i][2]%10))"
   ]
  },
  {
   "cell_type": "code",
   "execution_count": 1,
   "id": "6216a18b",
   "metadata": {},
   "outputs": [
    {
     "name": "stdout",
     "output_type": "stream",
     "text": [
      "^C\n"
     ]
    }
   ],
   "source": [
    "!pip uninstall fsociety"
   ]
  },
  {
   "cell_type": "code",
   "execution_count": 2,
   "id": "30d4f82e",
   "metadata": {},
   "outputs": [
    {
     "name": "stdout",
     "output_type": "stream",
     "text": [
      "Looking in indexes: https://test.pypi.org/simple/\n",
      "Requirement already satisfied: fsociety in c:\\users\\acer\\anaconda3\\lib\\site-packages (1.0.7)\n"
     ]
    }
   ],
   "source": [
    "!pip install -i https://test.pypi.org/simple/ fsociety"
   ]
  },
  {
   "cell_type": "code",
   "execution_count": 9,
   "id": "d3e402d2",
   "metadata": {},
   "outputs": [
    {
     "name": "stdout",
     "output_type": "stream",
     "text": [
      "from numpy import *\n",
      "\n",
      "# Do NOT use, just for illustration of the D-S combination rules implementation\n",
      "def DempsterRule(m1, m2):\n",
      "    ## extract the frame of discernment      \n",
      "    sets=set(m1.keys()).union(set(m2.keys()))\n",
      "    result=dict.fromkeys(sets,0)\n",
      "    ## Combination process\n",
      "    for i in m1.keys():\n",
      "        for j in m2.keys():\n",
      "            if set(str(i)).intersection(set(str(j))) == set(str(i)):\n",
      "                result[i]+=m1[i]*m2[j]\n",
      "            elif set(str(i)).intersection(set(str(j))) == set(str(j)):\n",
      "                result[j]+=m1[i]*m2[j]\n",
      "                 \n",
      "    ## normalize the results\n",
      "    f= sum(list(result.values()))\n",
      "    for i in result.keys():\n",
      "        result[i] /=f\n",
      "    return result\n",
      "\n",
      "m1 = {'a':0.4, 'b':0.2, 'ab':0.1, 'abc':0.3}\n",
      "m2 = {'b':0.5, 'c':0.2, 'ac':0.3, 'a':0.0}\n",
      "print(DempsterRule(m1, m2))\n"
     ]
    }
   ],
   "source": [
    "from fsociety import Answer\n",
    "Answer.uncert()"
   ]
  },
  {
   "cell_type": "code",
   "execution_count": null,
   "id": "d256fb68",
   "metadata": {},
   "outputs": [],
   "source": []
  }
 ],
 "metadata": {
  "kernelspec": {
   "display_name": "Python 3 (ipykernel)",
   "language": "python",
   "name": "python3"
  },
  "language_info": {
   "codemirror_mode": {
    "name": "ipython",
    "version": 3
   },
   "file_extension": ".py",
   "mimetype": "text/x-python",
   "name": "python",
   "nbconvert_exporter": "python",
   "pygments_lexer": "ipython3",
   "version": "3.9.7"
  }
 },
 "nbformat": 4,
 "nbformat_minor": 5
}
